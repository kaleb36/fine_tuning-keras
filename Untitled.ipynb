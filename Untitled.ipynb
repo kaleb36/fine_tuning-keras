{
 "cells": [
  {
   "cell_type": "code",
   "execution_count": 9,
   "id": "23ccb914-87b1-4b57-9243-52eb5efa00ab",
   "metadata": {},
   "outputs": [],
   "source": [
    "from pathlib import Path\n",
    "import os\n",
    "import shutil\n",
    "\n",
    "#original path of the dataset\n",
    "original_dir = Path(\"/mnt/h/deep2/cats_vs_dogs/train/train\")\n",
    "\n",
    "#the destination path\n",
    "dest_dir = Path(\"/mnt/h/deep2/kal_classify\")\n",
    "\n",
    "def subset(subset_name, start_index, end_index):\n",
    "    for category in (\"cat\", \"dog\"):\n",
    "        #create a directory for each class\n",
    "        dir = dest_dir/subset_name/category\n",
    "        os.makedirs(dir)\n",
    "        \n",
    "        #create a list of filenames\n",
    "        fnames = [f\"{category}.{i}.jpg\" for  i in range(start_index, end_index)]\n",
    "\n",
    "        for fname in fnames:\n",
    "            shutil.copy(original_dir/fname, dir/fname)\n",
    "\n",
    "#creating training dataset\n",
    "#subset(\"train\", 0, 5000)\n",
    "\n",
    "#creating validation dataset\n",
    "#subset(\"validation\", 5000, 7000)\n",
    "\n",
    "#creating test dataset\n",
    "subset(\"test\", 7000, 7500)"
   ]
  },
  {
   "cell_type": "code",
   "execution_count": null,
   "id": "42d10112-87ad-4020-9b04-c520a473a6ea",
   "metadata": {},
   "outputs": [],
   "source": []
  },
  {
   "cell_type": "code",
   "execution_count": null,
   "id": "3af0ede7-9de7-419c-84d3-0ef651b6acd1",
   "metadata": {},
   "outputs": [],
   "source": []
  }
 ],
 "metadata": {
  "kernelspec": {
   "display_name": "kaltf",
   "language": "python",
   "name": "kaltf"
  },
  "language_info": {
   "codemirror_mode": {
    "name": "ipython",
    "version": 3
   },
   "file_extension": ".py",
   "mimetype": "text/x-python",
   "name": "python",
   "nbconvert_exporter": "python",
   "pygments_lexer": "ipython3",
   "version": "3.9.18"
  }
 },
 "nbformat": 4,
 "nbformat_minor": 5
}
